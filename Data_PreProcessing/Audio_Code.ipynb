{
 "cells": [
  {
   "cell_type": "code",
   "execution_count": null,
   "id": "f67b625b",
   "metadata": {},
   "outputs": [],
   "source": [
    "import sys\n",
    "import os\n",
    "#pianist is pianist name(file name)\n",
    "\n",
    "duration = 1\n",
    "posture = \"music3\"\n",
    "\n",
    "#outpath= str(duration)+\"second/\"+str(split)+\"/\"\n",
    "outpath = \"output/\"\n",
    "\n",
    "if not os.path.exists(outpath):\n",
    "    os.mkdir( outpath, 755 )\n",
    "        \n",
    "i = 1\n",
    "j = 0\n",
    "k = 0\n",
    "minute = 0\n",
    "\n",
    "while (minute <= 2):\n",
    "    all = [\"ffmpeg -i \",posture,\".mp4\",\" -ss 00:0\",minute,\":\",str(j),\" -t 00:00:\",duration,\" \",\"audio3\",\"-\",i,\".mp3 && ^\"] ## -> 윈도우 용 명령어\n",
    "    #sys.stdout.write(''.join(map(str, all)))  \n",
    "    print(''.join(map(str, all)))\n",
    "    i += 1\n",
    "    j += 1\n",
    "        \n",
    "    if j >= 60:\n",
    "        j = 0\n",
    "        minute += 1\n"
   ]
  }
 ],
 "metadata": {
  "kernelspec": {
   "display_name": "Python 3 (ipykernel)",
   "language": "python",
   "name": "python3"
  },
  "language_info": {
   "codemirror_mode": {
    "name": "ipython",
    "version": 3
   },
   "file_extension": ".py",
   "mimetype": "text/x-python",
   "name": "python",
   "nbconvert_exporter": "python",
   "pygments_lexer": "ipython3",
   "version": "3.7.9"
  }
 },
 "nbformat": 4,
 "nbformat_minor": 5
}
