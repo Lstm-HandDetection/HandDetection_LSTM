{
 "cells": [
  {
   "cell_type": "code",
   "execution_count": null,
   "id": "bf4f207a",
   "metadata": {},
   "outputs": [],
   "source": [
    "!pip install mediapipe"
   ]
  },
  {
   "cell_type": "code",
   "execution_count": null,
   "id": "a97a3e10",
   "metadata": {},
   "outputs": [],
   "source": [
    "from google.colab import files\n",
    "\n",
    "uploaded = files.upload() ## csv 파일 업로드"
   ]
  },
  {
   "cell_type": "code",
   "execution_count": null,
   "id": "e19e462c",
   "metadata": {},
   "outputs": [],
   "source": [
    "from mediapipe.framework.formats import landmark_pb2\n",
    "import mediapipe as mp\n",
    "mp_hands = mp.solutions.hands\n",
    "mp_drawing = mp.solutions.drawing_utils\n",
    "mp_drawing_styles = mp.solutions.drawing_styles\n",
    "import pandas as pd\n",
    "import numpy as np\n",
    "\n",
    "file_name = next(iter(uploaded))\n",
    "file_data = pd.read_csv(file_name)\n",
    "\n",
    "row = file_data.shape[0]\n",
    "col = file_data.shape[1]\n",
    "\n",
    "\n",
    "for a in range(row):\n",
    "  key_left = []\n",
    "  key_right = []\n",
    "  k = 0\n",
    "\n",
    "  print(file_data.iloc[a])\n",
    "\n",
    "  for b in range(21): # 왼손\n",
    "    land = landmark_pb2.NormalizedLandmark()\n",
    "    land.x = file_data.iloc[a,k]\n",
    "    land.y = file_data.iloc[a,k+1]\n",
    "    land.z = file_data.iloc[a,k+2]\n",
    "    key_left.append(land)\n",
    "    k = 3 * (b+1)\n",
    "\n",
    "  for b in range(21,42): # 오른손\n",
    "    land = landmark_pb2.NormalizedLandmark()\n",
    "    land.x = file_data.iloc[a,k]\n",
    "    land.y = file_data.iloc[a,k+1]\n",
    "    land.z = file_data.iloc[a,k+2]\n",
    "    key_right.append(land)\n",
    "    k = 3 * (b+1)\n",
    "  \n",
    "  landmark_left = landmark_pb2.NormalizedLandmarkList(landmark = key_left)\n",
    "  landmark_right = landmark_pb2.NormalizedLandmarkList(landmark = key_right)\n",
    "\n",
    "  mp_drawing.plot_landmarks(landmark_left, mp_hands.HAND_CONNECTIONS, azimuth=5)\n",
    "  mp_drawing.plot_landmarks(landmark_right, mp_hands.HAND_CONNECTIONS, azimuth=5)\n"
   ]
  },
  {
   "cell_type": "code",
   "execution_count": null,
   "id": "232ab663",
   "metadata": {},
   "outputs": [],
   "source": []
  },
  {
   "cell_type": "code",
   "execution_count": null,
   "id": "c81c476c",
   "metadata": {},
   "outputs": [],
   "source": []
  }
 ],
 "metadata": {
  "kernelspec": {
   "display_name": "Python 3 (ipykernel)",
   "language": "python",
   "name": "python3"
  },
  "language_info": {
   "codemirror_mode": {
    "name": "ipython",
    "version": 3
   },
   "file_extension": ".py",
   "mimetype": "text/x-python",
   "name": "python",
   "nbconvert_exporter": "python",
   "pygments_lexer": "ipython3",
   "version": "3.7.9"
  }
 },
 "nbformat": 4,
 "nbformat_minor": 5
}
