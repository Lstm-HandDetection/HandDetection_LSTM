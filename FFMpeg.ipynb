{
 "cells": [
  {
   "cell_type": "markdown",
   "id": "86ca629d",
   "metadata": {},
   "source": [
    "## 01. Video FFMpeg CMD"
   ]
  },
  {
   "cell_type": "code",
   "execution_count": null,
   "id": "743e96c5",
   "metadata": {},
   "outputs": [],
   "source": [
    "ffmpeg -ss 00:00:0 -i music2.mp4 -r 30 -f image2 music2-%d.jpg ## Video"
   ]
  },
  {
   "cell_type": "markdown",
   "id": "cbba6f77",
   "metadata": {},
   "source": [
    "## 02. Audio FFMpeg CMD"
   ]
  },
  {
   "cell_type": "code",
   "execution_count": null,
   "id": "b6d77528",
   "metadata": {},
   "outputs": [],
   "source": [
    "#you have to adjust x of \"while (l <= x)\" according to duration and music length 1.music length(second)/duration=y 2.duration*y ????\n",
    "#if you want to change interval, change x of \"j += x\" and x of \"l += x\"\n",
    "#if you want to change pianist, change x of \"pianist = \"x\"\"\n",
    "#smallest interval is 1 second\n",
    "\n",
    "#suyeon, aimi, alexia, alukasz, george, nathalia\n",
    "\n",
    "#if result is inaccurate, check audio length by using this command \"mp3info -p \" %f %m:%s\\n\" *.mp3\"\n",
    "import sys\n",
    "import os\n",
    "#pianist is pianist name(file name)\n",
    "\n",
    "duration = 1\n",
    "posture = \"music2\"\n",
    "\n",
    "#outpath= str(duration)+\"second/\"+str(split)+\"/\"\n",
    "outpath = \"output/\"\n",
    "\n",
    "if not os.path.exists(outpath):\n",
    "    os.mkdir( outpath, 755 )\n",
    "        \n",
    "i = 1\n",
    "j = 0\n",
    "k = 0\n",
    "minute = 0\n",
    "\n",
    "while (minute <= 3):\n",
    "    all = [\"ffmpeg -i \",posture,\".mp4\",\" -ss 00:0\",minute,\":\",str(j),\" -t 00:00:\",duration,\" \",\"audio2\",\"-\",i,\".mp3 && ^\"]\n",
    "    #sys.stdout.write(''.join(map(str, all)))  \n",
    "    print(''.join(map(str, all)))\n",
    "    i += 1\n",
    "    j += 1\n",
    "        \n",
    "    if j >= 60:\n",
    "        j = 0\n",
    "        minute += 1\n"
   ]
  }
 ],
 "metadata": {
  "kernelspec": {
   "display_name": "Python 3 (ipykernel)",
   "language": "python",
   "name": "python3"
  },
  "language_info": {
   "codemirror_mode": {
    "name": "ipython",
    "version": 3
   },
   "file_extension": ".py",
   "mimetype": "text/x-python",
   "name": "python",
   "nbconvert_exporter": "python",
   "pygments_lexer": "ipython3",
   "version": "3.7.9"
  }
 },
 "nbformat": 4,
 "nbformat_minor": 5
}
