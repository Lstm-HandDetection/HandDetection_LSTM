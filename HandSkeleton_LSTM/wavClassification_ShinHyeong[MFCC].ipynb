{
 "cells": [
  {
   "cell_type": "code",
   "execution_count": 1,
   "metadata": {},
   "outputs": [],
   "source": [
    "#https://www.analyticsvidhya.com/blog/2022/03/implementing-audio-classification-project-using-deep-learning/\n",
    "#https://stackoverflow.com/questions/52841335/how-can-i-pad-wav-file-to-specific-length\n",
    "from librosa.util import fix_length\n",
    "from librosa import load\n",
    "\n",
    "def features_extractor(file):\n",
    "    #load the file (audio)\n",
    "    file_name = file\n",
    "    #print(\">>\", file_name)\n",
    "    sf = 44100 # sampling frequency of wav file\n",
    "    required_audio_size = 2 # audio of size 1 second needs to be padded to 2 seconds\n",
    "    \n",
    "    audio, sample_rate = librosa.load(file_name, sr=sf) # mono=True converts stereo audio to mono\n",
    "    padded_audio = fix_length(audio, size=required_audio_size*sample_rate) # array size is required_audio_size*sampling frequency\n",
    "\n",
    "    #print('Array length before padding', np.shape(audio))\n",
    "    #print('Array length after padding', np.shape(padded_audio))\n",
    "    \n",
    "    #we extract mfcc'\n",
    "    #n_mfcc 20~50 appropriate\n",
    "    mfccs_features = librosa.feature.mfcc(y=padded_audio, n_mfcc=30, sr=88200)\n",
    "    #in order to find out scaled feature we do mean of transpose of value\n",
    "    \n",
    "    mfccs_scaled_features = np.mean(mfccs_features.T,axis=0)\n",
    "    \n",
    "    #print(\"mfccs_scaled_features\", mfccs_scaled_features.shape)\n",
    "    return mfccs_features"
   ]
  },
  {
   "cell_type": "code",
   "execution_count": 2,
   "metadata": {},
   "outputs": [],
   "source": [
    "import pandas as pd\n",
    "import numpy as np\n",
    "import os\n",
    "import librosa\n",
    "\n",
    "extracted_features = [] ## 일단 final_class_label 을 붙히지 않음 ** ex. 1행 = audio1_music1.wav\n",
    "\n",
    "for filename in os.listdir(\"music1_audio_wav\"):\n",
    "    file_name = os.path.join(\"music1_audio_wav\", filename)\n",
    "    #print(file_name)\n",
    "    data = features_extractor(file_name)\n",
    "    extracted_features.append([data])"
   ]
  },
  {
   "cell_type": "code",
   "execution_count": 4,
   "metadata": {},
   "outputs": [
    {
     "data": {
      "text/html": [
       "<div>\n",
       "<style scoped>\n",
       "    .dataframe tbody tr th:only-of-type {\n",
       "        vertical-align: middle;\n",
       "    }\n",
       "\n",
       "    .dataframe tbody tr th {\n",
       "        vertical-align: top;\n",
       "    }\n",
       "\n",
       "    .dataframe thead th {\n",
       "        text-align: right;\n",
       "    }\n",
       "</style>\n",
       "<table border=\"1\" class=\"dataframe\">\n",
       "  <thead>\n",
       "    <tr style=\"text-align: right;\">\n",
       "      <th></th>\n",
       "      <th>feature</th>\n",
       "    </tr>\n",
       "  </thead>\n",
       "  <tbody>\n",
       "    <tr>\n",
       "      <th>0</th>\n",
       "      <td>[[-1131.3708, -1131.3708, -1131.3708, -1131.37...</td>\n",
       "    </tr>\n",
       "    <tr>\n",
       "      <th>1</th>\n",
       "      <td>[[-339.0602, -385.1096, -476.61694, -479.3412,...</td>\n",
       "    </tr>\n",
       "    <tr>\n",
       "      <th>2</th>\n",
       "      <td>[[-290.32846, -317.5027, -374.73352, -376.321,...</td>\n",
       "    </tr>\n",
       "    <tr>\n",
       "      <th>3</th>\n",
       "      <td>[[-267.40616, -306.08487, -401.94653, -404.441...</td>\n",
       "    </tr>\n",
       "    <tr>\n",
       "      <th>4</th>\n",
       "      <td>[[-350.8346, -366.8666, -390.71057, -368.28412...</td>\n",
       "    </tr>\n",
       "  </tbody>\n",
       "</table>\n",
       "</div>"
      ],
      "text/plain": [
       "                                             feature\n",
       "0  [[-1131.3708, -1131.3708, -1131.3708, -1131.37...\n",
       "1  [[-339.0602, -385.1096, -476.61694, -479.3412,...\n",
       "2  [[-290.32846, -317.5027, -374.73352, -376.321,...\n",
       "3  [[-267.40616, -306.08487, -401.94653, -404.441...\n",
       "4  [[-350.8346, -366.8666, -390.71057, -368.28412..."
      ]
     },
     "execution_count": 4,
     "metadata": {},
     "output_type": "execute_result"
    }
   ],
   "source": [
    "extracted_features_df=pd.DataFrame(extracted_features, columns=['feature'])\n",
    "extracted_features_df.head()\n",
    "#extracted_features_df.to_csv('music1_features.csv')"
   ]
  },
  {
   "cell_type": "code",
   "execution_count": 15,
   "metadata": {},
   "outputs": [
    {
     "data": {
      "text/plain": [
       "30"
      ]
     },
     "execution_count": 15,
     "metadata": {},
     "output_type": "execute_result"
    }
   ],
   "source": [
    "len(extracted_features_df.iloc[0,0])\n"
   ]
  },
  {
   "cell_type": "code",
   "execution_count": 19,
   "metadata": {},
   "outputs": [
    {
     "data": {
      "text/plain": [
       "173"
      ]
     },
     "execution_count": 19,
     "metadata": {},
     "output_type": "execute_result"
    }
   ],
   "source": [
    "len(extracted_features_df.iloc[0,0][1])"
   ]
  },
  {
   "cell_type": "code",
   "execution_count": null,
   "metadata": {},
   "outputs": [],
   "source": []
  },
  {
   "cell_type": "code",
   "execution_count": null,
   "metadata": {},
   "outputs": [],
   "source": []
  },
  {
   "cell_type": "code",
   "execution_count": null,
   "metadata": {},
   "outputs": [],
   "source": []
  },
  {
   "cell_type": "code",
   "execution_count": null,
   "metadata": {},
   "outputs": [],
   "source": []
  },
  {
   "cell_type": "code",
   "execution_count": null,
   "metadata": {},
   "outputs": [],
   "source": []
  },
  {
   "cell_type": "code",
   "execution_count": null,
   "metadata": {},
   "outputs": [],
   "source": []
  }
 ],
 "metadata": {
  "kernelspec": {
   "display_name": "py37",
   "language": "python",
   "name": "py37"
  },
  "language_info": {
   "codemirror_mode": {
    "name": "ipython",
    "version": 3
   },
   "file_extension": ".py",
   "mimetype": "text/x-python",
   "name": "python",
   "nbconvert_exporter": "python",
   "pygments_lexer": "ipython3",
   "version": "3.7.7"
  }
 },
 "nbformat": 4,
 "nbformat_minor": 4
}
